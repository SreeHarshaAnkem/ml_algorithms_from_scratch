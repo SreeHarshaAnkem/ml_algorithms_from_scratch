{
 "cells": [
  {
   "cell_type": "code",
   "execution_count": 170,
   "metadata": {},
   "outputs": [],
   "source": [
    "import numpy as np\n",
    "import pandas as pd\n",
    "\n",
    "%matplotlib inline\n",
    "\n",
    "import matplotlib.pyplot as plt\n",
    "from sklearn.datasets import make_regression\n",
    "from tqdm import tqdm"
   ]
  },
  {
   "cell_type": "code",
   "execution_count": 171,
   "metadata": {},
   "outputs": [],
   "source": [
    "def initialize_weights(d0, d1):\n",
    "    return np.random.randn(d0, d1)"
   ]
  },
  {
   "cell_type": "code",
   "execution_count": 172,
   "metadata": {},
   "outputs": [],
   "source": [
    "def forward(X):\n",
    "    model[\"q\"] = np.dot(X, model[\"w\"]) \n",
    "    model[\"h\"] = model[\"q\"] + model[\"b\"]\n",
    "    return model"
   ]
  },
  {
   "cell_type": "code",
   "execution_count": 173,
   "metadata": {},
   "outputs": [],
   "source": [
    "def compute_loss(y_true, y_pred, reduce=\"mean\"):\n",
    "    if reduce == \"mean\":\n",
    "        return np.mean(np.square(y_pred-y_true))\n",
    "    elif reduce == \"sum\":\n",
    "        return np.sum(np.square(y_pred-y_true))\n",
    "    else:\n",
    "        return np.square(y_pred-y_true)"
   ]
  },
  {
   "cell_type": "markdown",
   "metadata": {},
   "source": [
    "# Computational Graph\n",
    "<img src = \"computational_graph.png\">"
   ]
  },
  {
   "cell_type": "code",
   "execution_count": 174,
   "metadata": {},
   "outputs": [],
   "source": [
    "def backward(X, y):\n",
    "    \n",
    "    # More in the deck\n",
    "    model[\"dldh\"] = (model[\"h\"]-y) \n",
    "    model[\"dhdq\"] = np.eye(N = (model[\"q\"].shape[0]*model[\"q\"].shape[1]), \n",
    "                           M = (model[\"h\"].shape[0]*model[\"h\"].shape[1]))\n",
    "    \n",
    "    model[\"dldq\"] = np.dot(model[\"dhdq\"], model[\"dldh\"])\n",
    "    \n",
    "    model[\"dhdb\"] = np.ones(shape = model[\"h\"].shape)\n",
    "    model[\"dldb\"] = np.dot(model[\"dhdb\"].T, model[\"dldh\"])\n",
    "\n",
    "\n",
    "    model[\"dldq\"] = np.dot(model[\"dhdq\"], model[\"dldh\"])\n",
    "    model[\"dldw\"] = np.dot(X.T, model[\"dldq\"])\n",
    "    \n",
    "    return model"
   ]
  },
  {
   "cell_type": "code",
   "execution_count": 175,
   "metadata": {},
   "outputs": [],
   "source": [
    "def generate_batches(features, target, batch_idx, mini_batch_size):\n",
    "\n",
    "    batch_X = features[batch_idx*mini_batch_size: (batch_idx+1)*mini_batch_size]\n",
    "    batch_y = target[batch_idx*mini_batch_size: (batch_idx+1)*mini_batch_size]\n",
    "    yield batch_X, batch_y"
   ]
  },
  {
   "cell_type": "code",
   "execution_count": 176,
   "metadata": {},
   "outputs": [],
   "source": [
    "def shuffle_dataset(features, target):\n",
    "    indices = np.arange(0, train_X.shape[0])\n",
    "    shuffled_indices = np.random.choice(a=indices, size=len(indices))\n",
    "    return features[shuffled_indices], target[shuffled_indices]"
   ]
  },
  {
   "cell_type": "code",
   "execution_count": 177,
   "metadata": {},
   "outputs": [],
   "source": [
    "\n",
    "def scale(X, y=None, X_max=None, y_max=None, fit=True):\n",
    "    if fit:\n",
    "        X_max = np.max(X, axis = 0)\n",
    "        y_max = np.max(y, axis = 0)\n",
    "        \n",
    "        X = X/X_max\n",
    "        y = y/y_max\n",
    "        \n",
    "        return X, y, X_max, y_max\n",
    "    \n",
    "    elif y is not None:\n",
    "        return X/X_max, y/y_max\n",
    "    else:\n",
    "        return X/X_max"
   ]
  },
  {
   "cell_type": "code",
   "execution_count": 178,
   "metadata": {},
   "outputs": [],
   "source": [
    "def fit(features, target, epochs, mini_batch_size, learning_rate, iterations, evaluate=False):\n",
    "    for epoch in range(epochs):\n",
    "        train_epoch_loss = 0\n",
    "        test_epoch_loss = 0\n",
    "        epoch_loss = 0\n",
    "        test_loss = 0\n",
    "        iteration = 0\n",
    "        while iteration<iterations:\n",
    "            \n",
    "            # Generate Random Batches\n",
    "            for batch_X, batch_y in generate_batches(features, target, iteration, mini_batch_size):\n",
    "                loss = 0\n",
    "                \n",
    "                # Forward Propogation\n",
    "                model = forward(batch_X)\n",
    "                \n",
    "                model[\"dldw\"] = 0\n",
    "                model[\"dldb\"] = 0\n",
    "                model[\"dldh\"] = 0\n",
    "                model[\"dhdq\"] = 0\n",
    "                model[\"dldq\"] = 0\n",
    "                model[\"dhdb\"] = 0\n",
    "                model[\"dldb\"] = 0\n",
    "                model[\"dldq\"] = 0\n",
    "                model[\"dqdw\"] = 0\n",
    "                \n",
    "                # Backward Propogation\n",
    "                model = backward(batch_X, batch_y)\n",
    "                \n",
    "                # Update Weights\n",
    "                model[\"w\"]=model[\"w\"]-learning_rate*model[\"dldw\"]\n",
    "                model[\"b\"] = model[\"b\"]-learning_rate*model[\"dldb\"]\n",
    "                \n",
    "            \n",
    "                loss += compute_loss(batch_y, model[\"h\"])\n",
    "                \n",
    "            \n",
    "            iteration+=1\n",
    "            train_epoch_loss = loss/iterations\n",
    "       \n",
    "    \n",
    "        \n",
    "\n",
    "        if epoch % 9 == 0:\n",
    "            print(\"Epoch : {}\".format(epoch))\n",
    "            print(\"\\tTrain : {}\".format(loss))\n",
    "            \n",
    "            \n",
    "            if test_X.shape[0]>0:\n",
    "                test_pred = forward(test_X)[\"h\"]\n",
    "                test_loss = compute_loss(test_y, model[\"h\"])\n",
    "                print(\"\\t Test : {}\".format(test_loss))\n",
    "               \n",
    "    return model"
   ]
  },
  {
   "cell_type": "markdown",
   "metadata": {},
   "source": [
    "# Toy example - example from the deck"
   ]
  },
  {
   "cell_type": "code",
   "execution_count": 179,
   "metadata": {},
   "outputs": [],
   "source": [
    "x = np.array([[0.1], [0.2]])\n",
    "w = np.array([[0.198]])\n",
    "\n",
    "b = np.array([[0]])\n",
    "y_true = np.array([[1], [2]])"
   ]
  },
  {
   "cell_type": "code",
   "execution_count": 180,
   "metadata": {},
   "outputs": [],
   "source": [
    "model = dict()\n",
    "model[\"w\"] = w\n",
    "model[\"b\"] = b"
   ]
  },
  {
   "cell_type": "code",
   "execution_count": 181,
   "metadata": {},
   "outputs": [
    {
     "name": "stdout",
     "output_type": "stream",
     "text": [
      "Param : w\n",
      "[[0.198]]\n",
      "\n",
      "Param : b\n",
      "[[0]]\n",
      "\n"
     ]
    }
   ],
   "source": [
    "for param, value in model.items():\n",
    "    print(\"Param : {}\".format(param))\n",
    "    print(value, end  = \"\\n\\n\")"
   ]
  },
  {
   "cell_type": "markdown",
   "metadata": {},
   "source": [
    "Forward Propagation"
   ]
  },
  {
   "cell_type": "code",
   "execution_count": 182,
   "metadata": {},
   "outputs": [
    {
     "name": "stdout",
     "output_type": "stream",
     "text": [
      "Param : w\n",
      "[[0.198]]\n",
      "\n",
      "Param : b\n",
      "[[0]]\n",
      "\n",
      "Param : q\n",
      "[[0.0198]\n",
      " [0.0396]]\n",
      "\n",
      "Param : h\n",
      "[[0.0198]\n",
      " [0.0396]]\n",
      "\n"
     ]
    }
   ],
   "source": [
    "model = forward(x)\n",
    "for param, value in model.items():\n",
    "    print(\"Param : {}\".format(param))\n",
    "    print(value, end  = \"\\n\\n\")\n",
    "    "
   ]
  },
  {
   "cell_type": "markdown",
   "metadata": {},
   "source": [
    "Backward Propagation"
   ]
  },
  {
   "cell_type": "code",
   "execution_count": 183,
   "metadata": {
    "scrolled": false
   },
   "outputs": [
    {
     "name": "stdout",
     "output_type": "stream",
     "text": [
      "Param : w\n",
      "[[0.198]]\n",
      "\n",
      "Param : b\n",
      "[[0]]\n",
      "\n",
      "Param : q\n",
      "[[0.0198]\n",
      " [0.0396]]\n",
      "\n",
      "Param : h\n",
      "[[0.0198]\n",
      " [0.0396]]\n",
      "\n",
      "Param : dldh\n",
      "[[-0.9802]\n",
      " [-1.9604]]\n",
      "\n",
      "Param : dhdq\n",
      "[[1. 0.]\n",
      " [0. 1.]]\n",
      "\n",
      "Param : dldq\n",
      "[[-0.9802]\n",
      " [-1.9604]]\n",
      "\n",
      "Param : dhdb\n",
      "[[1.]\n",
      " [1.]]\n",
      "\n",
      "Param : dldb\n",
      "[[-2.9406]]\n",
      "\n",
      "Param : dldw\n",
      "[[-0.4901]]\n",
      "\n"
     ]
    }
   ],
   "source": [
    "\n",
    "model = backward(x, y_true)\n",
    "for param, value in model.items():\n",
    "    print(\"Param : {}\".format(param))\n",
    "    print(value, end  = \"\\n\\n\")\n",
    "    "
   ]
  },
  {
   "cell_type": "code",
   "execution_count": null,
   "metadata": {},
   "outputs": [],
   "source": []
  },
  {
   "cell_type": "markdown",
   "metadata": {},
   "source": [
    "# Larger dataset"
   ]
  },
  {
   "cell_type": "code",
   "execution_count": 184,
   "metadata": {
    "scrolled": false
   },
   "outputs": [
    {
     "name": "stdout",
     "output_type": "stream",
     "text": [
      "(4000, 1) (4000, 1) (1000, 1) (1000, 1)\n"
     ]
    }
   ],
   "source": [
    "\n",
    "def generate_data(size, feature_size=1):\n",
    "    \n",
    "    np.random.seed(9)\n",
    "\n",
    "    # Generate random data points between 0 and 1\n",
    "    X = np.random.normal(loc = 0, scale=1, size = (size, feature_size))\n",
    "    # Generate dependent variable by adding random normal noise to X\n",
    "    y = np.mean(X, axis=1).reshape(-1,1) + np.random.normal(loc=0, scale=0.5, size=(size, 1))\n",
    "    # Add a new feature with all 1s to account for bias\n",
    "    \n",
    "    return X, y\n",
    "\n",
    "\n",
    "\n",
    "\n",
    "X_all, y_all = generate_data(size=5000)\n",
    "\n",
    "\n",
    "from sklearn.model_selection import train_test_split\n",
    "train_X,  test_X, train_y, test_y = train_test_split(X_all, y_all, test_size=0.2, \n",
    "                                                    shuffle=True, random_state=9)\n",
    "print(train_X.shape, train_y.shape, test_X.shape,  test_y.shape)\n",
    "\n",
    "train_X,  train_y, max_X, max_y = scale(train_X,train_y, fit=True)\n",
    "test_X, test_y = scale(test_X, test_y, X_max = max_X, y_max = max_y, fit=False)"
   ]
  },
  {
   "cell_type": "code",
   "execution_count": 185,
   "metadata": {},
   "outputs": [
    {
     "data": {
      "image/png": "[encoded data removed]",
      "text/plain": [
       "<Figure size 1152x288 with 1 Axes>"
      ]
     },
     "metadata": {
      "needs_background": "light"
     },
     "output_type": "display_data"
    }
   ],
   "source": [
    "\n",
    "MINI_BATCH_SIZE = 32\n",
    "ITERATIONS = train_X.shape[0]//MINI_BATCH_SIZE\n",
    "EPOCHS = 100\n",
    "LEARNING_RATE = 1e-3\n",
    "HIDDEN_UNITS = 2\n",
    "model = dict()\n",
    "model[\"w\"] = initialize_weights(train_X.shape[1], 1)\n",
    "# https://cs231n.github.io/neural-networks-2/#init\n",
    "model[\"b\"] = np.zeros((1, 1))\n",
    "\n",
    "\n",
    "fig = plt.figure(figsize  = (16, 4))\n",
    "fig.add_subplot(121)\n",
    "plt.scatter(X_all[:,0], y_all, color = \"blue\")\n",
    "\n",
    "\n",
    "y_pred = forward(X_all)[\"h\"]\n",
    "plt.plot(X_all[:,0], y_pred, color = \"red\")\n",
    "plt.show()\n",
    "\n"
   ]
  },
  {
   "cell_type": "code",
   "execution_count": 186,
   "metadata": {},
   "outputs": [
    {
     "name": "stdout",
     "output_type": "stream",
     "text": [
      "Epoch : 0\n",
      "\tTrain : 0.32238261244032884\n",
      "\t Test : 0.2758539916123502\n",
      "Epoch : 9\n",
      "\tTrain : 0.01599640265489709\n",
      "\t Test : 0.018106838045250276\n",
      "Epoch : 18\n",
      "\tTrain : 0.014158185070977469\n",
      "\t Test : 0.01597513308421123\n",
      "Epoch : 27\n",
      "\tTrain : 0.01419755235199096\n",
      "\t Test : 0.015951335232208833\n",
      "Epoch : 36\n",
      "\tTrain : 0.01420269090464684\n",
      "\t Test : 0.015950538363879732\n",
      "Epoch : 45\n",
      "\tTrain : 0.014203162725261786\n",
      "\t Test : 0.015950477795542987\n",
      "Epoch : 54\n",
      "\tTrain : 0.014203204962504466\n",
      "\t Test : 0.01595047247120693\n",
      "Epoch : 63\n",
      "\tTrain : 0.014203208735153246\n",
      "\t Test : 0.01595047199641234\n",
      "Epoch : 72\n",
      "\tTrain : 0.014203209072060912\n",
      "\t Test : 0.01595047195401811\n",
      "Epoch : 81\n",
      "\tTrain : 0.014203209102147141\n",
      "\t Test : 0.015950471950232307\n",
      "Epoch : 90\n",
      "\tTrain : 0.014203209104833869\n",
      "\t Test : 0.01595047194989423\n",
      "Epoch : 99\n",
      "\tTrain : 0.014203209105073791\n",
      "\t Test : 0.01595047194986404\n"
     ]
    }
   ],
   "source": [
    "model = fit(features = train_X, \n",
    "            target = train_y, \n",
    "            epochs=EPOCHS, \n",
    "            mini_batch_size=MINI_BATCH_SIZE, \n",
    "            learning_rate=LEARNING_RATE, \n",
    "            iterations=ITERATIONS, evaluate = True)"
   ]
  },
  {
   "cell_type": "code",
   "execution_count": 187,
   "metadata": {},
   "outputs": [],
   "source": [
    "def predict(X, scaled=True):\n",
    "    # Preprocess\n",
    "    if not scaled:\n",
    "        X= scale(X=X, y=None, X_max=max_X, y_max=max_y, fit=False)\n",
    "    # Predict\n",
    "    y_pred = forward(X)[\"h\"]\n",
    "    # Return \n",
    "    return y_pred"
   ]
  },
  {
   "cell_type": "code",
   "execution_count": 188,
   "metadata": {},
   "outputs": [],
   "source": [
    "def plot_predictions(model, features, target, title):\n",
    "    \n",
    "    y_pred = predict(features, scaled=True)\n",
    "    sort_index = np.argsort(target, axis = 0)\n",
    "    plt.scatter(features[sort_index], target[sort_index])\n",
    "    plt.scatter(features[sort_index], y_pred[sort_index])\n",
    "    plt.legend([\"Actual\", \"Predicted\"])\n",
    "    plt.title(title)\n",
    "    return y_pred"
   ]
  },
  {
   "cell_type": "code",
   "execution_count": 189,
   "metadata": {},
   "outputs": [
    {
     "data": {
      "image/png": "[encoded data removed]",
      "text/plain": [
       "<Figure size 1152x432 with 2 Axes>"
      ]
     },
     "metadata": {
      "needs_background": "light"
     },
     "output_type": "display_data"
    }
   ],
   "source": [
    "fig = plt.figure(figsize = (16, 6))\n",
    "fig.add_subplot(121)\n",
    "train_predictions = plot_predictions(model, train_X, train_y, title = \"Train\")\n",
    "fig.add_subplot(122)\n",
    "test_predictions = plot_predictions(model, test_X, test_y, title = \"Test\")"
   ]
  },
  {
   "cell_type": "code",
   "execution_count": 190,
   "metadata": {},
   "outputs": [],
   "source": [
    "def get_metrics(features, target):\n",
    "    from sklearn.metrics import r2_score\n",
    "    prediction = predict(features, scaled=True)\n",
    "    r2 = r2_score(target, prediction)\n",
    "    print(\"R2 Score: {}\".format(r2))"
   ]
  },
  {
   "cell_type": "code",
   "execution_count": 191,
   "metadata": {},
   "outputs": [
    {
     "name": "stdout",
     "output_type": "stream",
     "text": [
      "R2 Score: 0.8073101480487217\n"
     ]
    }
   ],
   "source": [
    "get_metrics(train_X, train_y)"
   ]
  },
  {
   "cell_type": "code",
   "execution_count": 192,
   "metadata": {},
   "outputs": [
    {
     "name": "stdout",
     "output_type": "stream",
     "text": [
      "R2 Score: 0.8077818234081525\n"
     ]
    }
   ],
   "source": [
    "get_metrics(test_X, test_y)"
   ]
  },
  {
   "cell_type": "code",
   "execution_count": null,
   "metadata": {},
   "outputs": [],
   "source": []
  }
 ],
 "metadata": {
  "kernelspec": {
   "display_name": "Python 3",
   "language": "python",
   "name": "python3"
  },
  "language_info": {
   "codemirror_mode": {
    "name": "ipython",
    "version": 3
   },
   "file_extension": ".py",
   "mimetype": "text/x-python",
   "name": "python",
   "nbconvert_exporter": "python",
   "pygments_lexer": "ipython3",
   "version": "3.8.3"
  }
 },
 "nbformat": 4,
 "nbformat_minor": 4
}
