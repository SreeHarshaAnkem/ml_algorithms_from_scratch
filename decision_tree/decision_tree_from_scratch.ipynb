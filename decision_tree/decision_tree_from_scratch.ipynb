{
 "cells": [
  {
   "cell_type": "code",
   "execution_count": 3,
   "metadata": {
    "ExecuteTime": {
     "end_time": "2021-03-21T18:36:20.046894Z",
     "start_time": "2021-03-21T18:36:20.042460Z"
    }
   },
   "outputs": [],
   "source": [
    "import numpy as np\n",
    "import pandas as pd"
   ]
  },
  {
   "cell_type": "code",
   "execution_count": 4,
   "metadata": {
    "ExecuteTime": {
     "end_time": "2021-03-21T18:36:20.519829Z",
     "start_time": "2021-03-21T18:36:20.515642Z"
    }
   },
   "outputs": [],
   "source": [
    "df = pd.DataFrame({\"A\": [\"T\", \"T\", \"F\", \"F\"],\n",
    "                   \"B\": [\"T\", \"F\", \"T\", \"F\"], \n",
    "                   \"Y\": [\"T\", \"T\", \"T\", \"F\"]})"
   ]
  },
  {
   "cell_type": "code",
   "execution_count": 5,
   "metadata": {
    "ExecuteTime": {
     "end_time": "2021-03-21T18:36:20.966482Z",
     "start_time": "2021-03-21T18:36:20.962423Z"
    }
   },
   "outputs": [],
   "source": [
    "def preprocess_data(df, cat_features, target_field):\n",
    "    df_cat = df.loc[:, cat_features]\n",
    "    df_cat_dummy = pd.get_dummies(df_cat)\n",
    "    df_target = df.loc[:, target_field]\n",
    "    \n",
    "    df_processed = pd.concat([df_cat_dummy, df_target], axis=1)\n",
    "    return df_processed"
   ]
  },
  {
   "cell_type": "code",
   "execution_count": 6,
   "metadata": {
    "ExecuteTime": {
     "end_time": "2021-03-21T18:36:21.482323Z",
     "start_time": "2021-03-21T18:36:21.451409Z"
    }
   },
   "outputs": [
    {
     "data": {
      "text/html": [
       "<div>\n",
       "<style scoped>\n",
       "    .dataframe tbody tr th:only-of-type {\n",
       "        vertical-align: middle;\n",
       "    }\n",
       "\n",
       "    .dataframe tbody tr th {\n",
       "        vertical-align: top;\n",
       "    }\n",
       "\n",
       "    .dataframe thead th {\n",
       "        text-align: right;\n",
       "    }\n",
       "</style>\n",
       "<table border=\"1\" class=\"dataframe\">\n",
       "  <thead>\n",
       "    <tr style=\"text-align: right;\">\n",
       "      <th></th>\n",
       "      <th>A_F</th>\n",
       "      <th>A_T</th>\n",
       "      <th>B_F</th>\n",
       "      <th>B_T</th>\n",
       "      <th>Y</th>\n",
       "    </tr>\n",
       "  </thead>\n",
       "  <tbody>\n",
       "    <tr>\n",
       "      <th>0</th>\n",
       "      <td>0</td>\n",
       "      <td>1</td>\n",
       "      <td>0</td>\n",
       "      <td>1</td>\n",
       "      <td>T</td>\n",
       "    </tr>\n",
       "    <tr>\n",
       "      <th>1</th>\n",
       "      <td>0</td>\n",
       "      <td>1</td>\n",
       "      <td>1</td>\n",
       "      <td>0</td>\n",
       "      <td>T</td>\n",
       "    </tr>\n",
       "    <tr>\n",
       "      <th>2</th>\n",
       "      <td>1</td>\n",
       "      <td>0</td>\n",
       "      <td>0</td>\n",
       "      <td>1</td>\n",
       "      <td>T</td>\n",
       "    </tr>\n",
       "    <tr>\n",
       "      <th>3</th>\n",
       "      <td>1</td>\n",
       "      <td>0</td>\n",
       "      <td>1</td>\n",
       "      <td>0</td>\n",
       "      <td>F</td>\n",
       "    </tr>\n",
       "  </tbody>\n",
       "</table>\n",
       "</div>"
      ],
      "text/plain": [
       "   A_F  A_T  B_F  B_T  Y\n",
       "0    0    1    0    1  T\n",
       "1    0    1    1    0  T\n",
       "2    1    0    0    1  T\n",
       "3    1    0    1    0  F"
      ]
     },
     "execution_count": 6,
     "metadata": {},
     "output_type": "execute_result"
    }
   ],
   "source": [
    "df = preprocess_data(df, cat_features=[\"A\", \"B\"],\n",
    "                     target_field=[\"Y\"])\n",
    "df"
   ]
  },
  {
   "cell_type": "code",
   "execution_count": 7,
   "metadata": {
    "ExecuteTime": {
     "end_time": "2021-03-21T18:36:21.875759Z",
     "start_time": "2021-03-21T18:36:21.869954Z"
    }
   },
   "outputs": [],
   "source": [
    "df[\"Y\"] = df[\"Y\"].apply(lambda x: 1 if x == \"T\" else 0)"
   ]
  },
  {
   "cell_type": "markdown",
   "metadata": {},
   "source": [
    "# What field to split on?"
   ]
  },
  {
   "cell_type": "code",
   "execution_count": 8,
   "metadata": {
    "ExecuteTime": {
     "end_time": "2021-03-21T18:36:22.762112Z",
     "start_time": "2021-03-21T18:36:22.758298Z"
    }
   },
   "outputs": [],
   "source": [
    "target_incidence = df[\"Y\"].mean()"
   ]
  },
  {
   "cell_type": "code",
   "execution_count": 9,
   "metadata": {
    "ExecuteTime": {
     "end_time": "2021-03-21T18:36:23.182280Z",
     "start_time": "2021-03-21T18:36:23.178591Z"
    }
   },
   "outputs": [],
   "source": [
    "fields_to_split = df.columns[:-1].tolist()"
   ]
  },
  {
   "cell_type": "code",
   "execution_count": null,
   "metadata": {},
   "outputs": [],
   "source": []
  },
  {
   "cell_type": "code",
   "execution_count": 10,
   "metadata": {
    "ExecuteTime": {
     "end_time": "2021-03-21T18:36:24.038741Z",
     "start_time": "2021-03-21T18:36:24.034742Z"
    }
   },
   "outputs": [],
   "source": [
    "# 1. What field to split on?\n",
    "# 1.1 Find entropies\n",
    "# 1.2 Find information gain\n",
    "# 1.3 Best field to split\n",
    "# 1.4 Split data into left and right\n",
    "# 1.5 Omit field used to split\n",
    "\n",
    "# Repeat steps above\n",
    "\n"
   ]
  },
  {
   "cell_type": "code",
   "execution_count": null,
   "metadata": {},
   "outputs": [],
   "source": []
  },
  {
   "cell_type": "code",
   "execution_count": 124,
   "metadata": {
    "ExecuteTime": {
     "end_time": "2021-03-21T19:20:31.557450Z",
     "start_time": "2021-03-21T19:20:31.534854Z"
    }
   },
   "outputs": [],
   "source": [
    "class DecisionTree:\n",
    "    def __init__(self, max_depth, target_field, fields_to_split):\n",
    "        self.max_depth = max_depth\n",
    "        self.target_field = target_field\n",
    "        self.fields_to_split = fields_to_split\n",
    "        self.depth_count = 0\n",
    "        self.tree_object = dict()\n",
    "        \n",
    "    def fit(self, df, parent_entropy=0):\n",
    "        \n",
    "        flag = self.check_stopping_criteria(df)\n",
    "        print(flag)\n",
    "        if flag != \"stop\":\n",
    "\n",
    "            # 1. find overall entropy\n",
    "            target_p = df[self.target_field].mean()\n",
    "            parent_entropy = self.get_entropy(target_p)\n",
    "            #2. find entropy per feature\n",
    "            entropies = self.get_entropy_per_feature(self.target_field, \n",
    "                                                     self.fields_to_split)\n",
    "\n",
    "            #3. find information gain\n",
    "            info_gains = self.get_information_gain(parent_entropy, \n",
    "                                                  entropies)\n",
    "\n",
    "            #4. find best split\n",
    "            best_field_to_split, best_value, max_info_gain = self.find_best_split(info_gains, \n",
    "                                                       self.fields_to_split)\n",
    "\n",
    "            #5. omit field used to split\n",
    "            self.omit_field_used_to_split(best_field_to_split)\n",
    "            print(f\"Parent Entropy: {parent_entropy}, Max info gain: {max_info_gain}\")\n",
    "\n",
    "\n",
    "            #6. Split data\n",
    "            left, right = self.split_data(df, best_field_to_split, best_value)\n",
    "            print(left.shape, right.shape)\n",
    "            #7. create tree further\n",
    "            left_child = self.fit(left, parent_entropy)\n",
    "            right_child = self.fit(right, parent_entropy)\n",
    "\n",
    "            node = {\"is_leaf\": False,\n",
    "                    \"left\": left_child,\n",
    "                    \"right\": right_child,\n",
    "                    \"split_col\": best_field_to_split,\n",
    "                    \"threshold\": best_value,\n",
    "                    \"record_count\": df.shape[0]}\n",
    "            return node\n",
    "\n",
    "        else:\n",
    "            \n",
    "            leaf = {\"is_leaf\": True,\n",
    "                    \"prob\": df[self.target_field].mean(), \n",
    "                    \"record_count\": df.shape[0]}\n",
    "            \n",
    "            if leaf[\"record_count\"]>0:\n",
    "                return leaf\n",
    "            \n",
    "    def get_entropy(self, p):\n",
    "        if p == 1 or p == 0:\n",
    "            return np.array(0)\n",
    "        return -(p*np.log2(p) + (1-p)*np.log2(1-p))\n",
    "    \n",
    "    def get_entropy_per_feature(self, target_field, fields_to_split):\n",
    "        entropy_per_feature = []\n",
    "        for f in fields_to_split:\n",
    "            print(f\"Feature: {f}\")\n",
    "            level_counts = df[f].value_counts()\n",
    "            counts = level_counts.values\n",
    "            overall_count = np.sum(counts)\n",
    "            levels = level_counts.index.tolist()\n",
    "            probs = df.groupby(f).agg({target_field:\"mean\"}).values.reshape(-1,)\n",
    "            entropy_feature = 0\n",
    "            for idx, level in enumerate(levels):\n",
    "                frequency_dist = counts[idx]/overall_count\n",
    "                entropy_level = self.get_entropy(probs[idx])\n",
    "                print(f\"\\tLevel : {level}\", end=\"\\t\")\n",
    "                print(f\"Probability : {probs[idx]}\", end=\"\\t\")\n",
    "                print(f\"Entropy: {entropy_level}\", end=\"\\t\")\n",
    "                print(f\"Counts: {counts[idx]}\", end=\"\\t\")\n",
    "                print(f\"Frequency Dist: {frequency_dist}\")\n",
    "                entropy_feature += frequency_dist*entropy_level\n",
    "                print(\"**\"*25)\n",
    "            entropy_per_feature.append(entropy_feature)\n",
    "            print(f\"Entropy Feature:{entropy_feature}\")\n",
    "            print(\"--\"*50)\n",
    "        \n",
    "        return entropy_per_feature\n",
    "    \n",
    "    def get_information_gain(self, parent_entropy, child_entropy):\n",
    "        information_gain =  parent_entropy - child_entropy\n",
    "        return information_gain \n",
    "    \n",
    "    def find_best_split(self, info_gains, fields):\n",
    "        max_info_gain_idx = np.argmax(info_gains)\n",
    "        best_field = fields[max_info_gain_idx]\n",
    "        best_value = 0.5\n",
    "        print(f\"Best field to split: {best_field}\")\n",
    "        return best_field, best_value, np.max(info_gains)\n",
    "    \n",
    "    def omit_field_used_to_split(self, best_field_to_split):\n",
    "        self.fields_to_split.remove(best_field_to_split)\n",
    "        \n",
    "    def split_data(self, df, best_field_to_split, value):\n",
    "        df_left = df.loc[df[best_field_to_split]<value]\n",
    "        df_right = df.loc[df[best_field_to_split]>=value]\n",
    "        value = 0.5\n",
    "        return df_left, df_right\n",
    "        \n",
    "    def check_stopping_criteria(self, df, delta=0.001):\n",
    "        # check if node is pure\n",
    "        if df[self.target_field].mean() == 1:\n",
    "            print(\"Pure Node Stopping...\")\n",
    "            return \"stop\"\n",
    "        \n",
    "        # check if max_depth is met\n",
    "        elif self.depth_count==self.max_depth:\n",
    "            print(\"Max Depth Encountered...\")\n",
    "            return \"stop\"\n",
    "        \n",
    "        # check if there are no more features left\n",
    "        elif len(self.fields_to_split) == 0:\n",
    "            print(\"Exhausted all the fields\")\n",
    "            return \"stop\"\n",
    "        \n",
    "#         \"\"\"\n",
    "#         # check if there is no change in info_gain\n",
    "#         elif info_gain_parent - info_gain_current <= delta:\n",
    "#             print(info_gain_parent, info_gain_current)\n",
    "#             print(\"No Info Gain...\")\n",
    "#             return \"stop\"\n",
    "#         \"\"\"\n",
    "        # check if there are no data points left\n",
    "        elif df.shape[0] == 0:\n",
    "            return \"stop\"\n",
    "        else:\n",
    "            return \"continue\"\n",
    "        \n",
    "        \n",
    "    def predict_row(self, tree_obj, row):\n",
    "        print(tree_obj)\n",
    "        print(\"--\"*50)\n",
    "        if tree_obj[\"is_leaf\"]:\n",
    "            return tree_obj[\"prob\"]\n",
    "\n",
    "        elif not tree_obj[\"is_leaf\"] :\n",
    "            if row[tree_obj[\"split_col\"]] >= tree_obj[\"threshold\"]:\n",
    "                return predict_row(tree_obj[\"right\"], test_input)\n",
    "            elif row[tree_obj[\"split_col\"]] < tree_obj[\"threshold\"]:\n",
    "                return predict_row(tree_obj[\"left\"], test_input)\n",
    "\n",
    "\n",
    "        \n"
   ]
  },
  {
   "cell_type": "code",
   "execution_count": 125,
   "metadata": {
    "ExecuteTime": {
     "end_time": "2021-03-21T19:20:32.022132Z",
     "start_time": "2021-03-21T19:20:31.970652Z"
    }
   },
   "outputs": [
    {
     "name": "stdout",
     "output_type": "stream",
     "text": [
      "continue\n",
      "Feature: A_F\n",
      "\tLevel : 0\tProbability : 1.0\tEntropy: 0\tCounts: 2\tFrequency Dist: 0.5\n",
      "**************************************************\n",
      "\tLevel : 1\tProbability : 0.5\tEntropy: 1.0\tCounts: 2\tFrequency Dist: 0.5\n",
      "**************************************************\n",
      "Entropy Feature:0.5\n",
      "----------------------------------------------------------------------------------------------------\n",
      "Feature: A_T\n",
      "\tLevel : 0\tProbability : 0.5\tEntropy: 1.0\tCounts: 2\tFrequency Dist: 0.5\n",
      "**************************************************\n",
      "\tLevel : 1\tProbability : 1.0\tEntropy: 0\tCounts: 2\tFrequency Dist: 0.5\n",
      "**************************************************\n",
      "Entropy Feature:0.5\n",
      "----------------------------------------------------------------------------------------------------\n",
      "Feature: B_F\n",
      "\tLevel : 0\tProbability : 1.0\tEntropy: 0\tCounts: 2\tFrequency Dist: 0.5\n",
      "**************************************************\n",
      "\tLevel : 1\tProbability : 0.5\tEntropy: 1.0\tCounts: 2\tFrequency Dist: 0.5\n",
      "**************************************************\n",
      "Entropy Feature:0.5\n",
      "----------------------------------------------------------------------------------------------------\n",
      "Feature: B_T\n",
      "\tLevel : 0\tProbability : 0.5\tEntropy: 1.0\tCounts: 2\tFrequency Dist: 0.5\n",
      "**************************************************\n",
      "\tLevel : 1\tProbability : 1.0\tEntropy: 0\tCounts: 2\tFrequency Dist: 0.5\n",
      "**************************************************\n",
      "Entropy Feature:0.5\n",
      "----------------------------------------------------------------------------------------------------\n",
      "Best field to split: A_F\n",
      "Parent Entropy: 0.8112781244591328, Max info gain: 0.31127812445913283\n",
      "(2, 5) (2, 5)\n",
      "Pure Node Stopping...\n",
      "stop\n",
      "continue\n",
      "Feature: A_T\n",
      "\tLevel : 0\tProbability : 0.5\tEntropy: 1.0\tCounts: 2\tFrequency Dist: 0.5\n",
      "**************************************************\n",
      "\tLevel : 1\tProbability : 1.0\tEntropy: 0\tCounts: 2\tFrequency Dist: 0.5\n",
      "**************************************************\n",
      "Entropy Feature:0.5\n",
      "----------------------------------------------------------------------------------------------------\n",
      "Feature: B_F\n",
      "\tLevel : 0\tProbability : 1.0\tEntropy: 0\tCounts: 2\tFrequency Dist: 0.5\n",
      "**************************************************\n",
      "\tLevel : 1\tProbability : 0.5\tEntropy: 1.0\tCounts: 2\tFrequency Dist: 0.5\n",
      "**************************************************\n",
      "Entropy Feature:0.5\n",
      "----------------------------------------------------------------------------------------------------\n",
      "Feature: B_T\n",
      "\tLevel : 0\tProbability : 0.5\tEntropy: 1.0\tCounts: 2\tFrequency Dist: 0.5\n",
      "**************************************************\n",
      "\tLevel : 1\tProbability : 1.0\tEntropy: 0\tCounts: 2\tFrequency Dist: 0.5\n",
      "**************************************************\n",
      "Entropy Feature:0.5\n",
      "----------------------------------------------------------------------------------------------------\n",
      "Best field to split: A_T\n",
      "Parent Entropy: 1.0, Max info gain: 0.5\n",
      "(2, 5) (0, 5)\n",
      "continue\n",
      "Feature: B_F\n",
      "\tLevel : 0\tProbability : 1.0\tEntropy: 0\tCounts: 2\tFrequency Dist: 0.5\n",
      "**************************************************\n",
      "\tLevel : 1\tProbability : 0.5\tEntropy: 1.0\tCounts: 2\tFrequency Dist: 0.5\n",
      "**************************************************\n",
      "Entropy Feature:0.5\n",
      "----------------------------------------------------------------------------------------------------\n",
      "Feature: B_T\n",
      "\tLevel : 0\tProbability : 0.5\tEntropy: 1.0\tCounts: 2\tFrequency Dist: 0.5\n",
      "**************************************************\n",
      "\tLevel : 1\tProbability : 1.0\tEntropy: 0\tCounts: 2\tFrequency Dist: 0.5\n",
      "**************************************************\n",
      "Entropy Feature:0.5\n",
      "----------------------------------------------------------------------------------------------------\n",
      "Best field to split: B_F\n",
      "Parent Entropy: 1.0, Max info gain: 0.5\n",
      "(1, 5) (1, 5)\n",
      "Pure Node Stopping...\n",
      "stop\n",
      "continue\n",
      "Feature: B_T\n",
      "\tLevel : 0\tProbability : 0.5\tEntropy: 1.0\tCounts: 2\tFrequency Dist: 0.5\n",
      "**************************************************\n",
      "\tLevel : 1\tProbability : 1.0\tEntropy: 0\tCounts: 2\tFrequency Dist: 0.5\n",
      "**************************************************\n",
      "Entropy Feature:0.5\n",
      "----------------------------------------------------------------------------------------------------\n",
      "Best field to split: B_T\n",
      "Parent Entropy: 0, Max info gain: -0.5\n",
      "(1, 5) (0, 5)\n",
      "Exhausted all the fields\n",
      "stop\n",
      "Exhausted all the fields\n",
      "stop\n",
      "Exhausted all the fields\n",
      "stop\n"
     ]
    }
   ],
   "source": [
    "dt = DecisionTree(max_depth=3, target_field=\"Y\", \n",
    "                  fields_to_split = ['A_F', 'A_T', 'B_F', 'B_T'])\n",
    "tree = dt.fit(df)"
   ]
  },
  {
   "cell_type": "code",
   "execution_count": 126,
   "metadata": {
    "ExecuteTime": {
     "end_time": "2021-03-21T19:20:32.712634Z",
     "start_time": "2021-03-21T19:20:32.705186Z"
    }
   },
   "outputs": [
    {
     "name": "stdout",
     "output_type": "stream",
     "text": [
      "{ 'is_leaf': False,\n",
      "  'left': {'is_leaf': True, 'prob': 1.0, 'record_count': 2},\n",
      "  'record_count': 4,\n",
      "  'right': { 'is_leaf': False,\n",
      "             'left': { 'is_leaf': False,\n",
      "                       'left': { 'is_leaf': True,\n",
      "                                 'prob': 1.0,\n",
      "                                 'record_count': 1},\n",
      "                       'record_count': 2,\n",
      "                       'right': { 'is_leaf': False,\n",
      "                                  'left': { 'is_leaf': True,\n",
      "                                            'prob': 0.0,\n",
      "                                            'record_count': 1},\n",
      "                                  'record_count': 1,\n",
      "                                  'right': None,\n",
      "                                  'split_col': 'B_T',\n",
      "                                  'threshold': 0.5},\n",
      "                       'split_col': 'B_F',\n",
      "                       'threshold': 0.5},\n",
      "             'record_count': 2,\n",
      "             'right': None,\n",
      "             'split_col': 'A_T',\n",
      "             'threshold': 0.5},\n",
      "  'split_col': 'A_F',\n",
      "  'threshold': 0.5}\n"
     ]
    }
   ],
   "source": [
    "import pprint\n",
    "pp = pprint.PrettyPrinter(indent=2)\n",
    "pp.pprint(tree)"
   ]
  },
  {
   "cell_type": "code",
   "execution_count": 127,
   "metadata": {
    "ExecuteTime": {
     "end_time": "2021-03-21T19:20:33.719612Z",
     "start_time": "2021-03-21T19:20:33.709432Z"
    }
   },
   "outputs": [
    {
     "data": {
      "text/html": [
       "<div>\n",
       "<style scoped>\n",
       "    .dataframe tbody tr th:only-of-type {\n",
       "        vertical-align: middle;\n",
       "    }\n",
       "\n",
       "    .dataframe tbody tr th {\n",
       "        vertical-align: top;\n",
       "    }\n",
       "\n",
       "    .dataframe thead th {\n",
       "        text-align: right;\n",
       "    }\n",
       "</style>\n",
       "<table border=\"1\" class=\"dataframe\">\n",
       "  <thead>\n",
       "    <tr style=\"text-align: right;\">\n",
       "      <th></th>\n",
       "      <th>A_F</th>\n",
       "      <th>A_T</th>\n",
       "      <th>B_F</th>\n",
       "      <th>B_T</th>\n",
       "      <th>Y</th>\n",
       "    </tr>\n",
       "  </thead>\n",
       "  <tbody>\n",
       "    <tr>\n",
       "      <th>0</th>\n",
       "      <td>0</td>\n",
       "      <td>1</td>\n",
       "      <td>0</td>\n",
       "      <td>1</td>\n",
       "      <td>1</td>\n",
       "    </tr>\n",
       "  </tbody>\n",
       "</table>\n",
       "</div>"
      ],
      "text/plain": [
       "   A_F  A_T  B_F  B_T  Y\n",
       "0    0    1    0    1  1"
      ]
     },
     "execution_count": 127,
     "metadata": {},
     "output_type": "execute_result"
    }
   ],
   "source": [
    "test_input = df.iloc[0:1]\n",
    "test_input"
   ]
  },
  {
   "cell_type": "code",
   "execution_count": 128,
   "metadata": {
    "ExecuteTime": {
     "end_time": "2021-03-21T19:20:34.948906Z",
     "start_time": "2021-03-21T19:20:34.943876Z"
    }
   },
   "outputs": [
    {
     "name": "stdout",
     "output_type": "stream",
     "text": [
      "{'is_leaf': False, 'left': {'is_leaf': True, 'prob': 1.0, 'record_count': 2}, 'right': {'is_leaf': False, 'left': {'is_leaf': False, 'left': {'is_leaf': True, 'prob': 1.0, 'record_count': 1}, 'right': {'is_leaf': False, 'left': {'is_leaf': True, 'prob': 0.0, 'record_count': 1}, 'right': None, 'split_col': 'B_T', 'threshold': 0.5, 'record_count': 1}, 'split_col': 'B_F', 'threshold': 0.5, 'record_count': 2}, 'right': None, 'split_col': 'A_T', 'threshold': 0.5, 'record_count': 2}, 'split_col': 'A_F', 'threshold': 0.5, 'record_count': 4}\n",
      "----------------------------------------------------------------------------------------------------\n",
      "{'is_leaf': True, 'prob': 1.0, 'record_count': 2}\n",
      "----------------------------------------------------------------------------------------------------\n",
      "1.0\n"
     ]
    }
   ],
   "source": [
    "print(dt.predict_row(tree, test_input.iloc[0, :]))"
   ]
  },
  {
   "cell_type": "code",
   "execution_count": null,
   "metadata": {},
   "outputs": [],
   "source": []
  }
 ],
 "metadata": {
  "kernelspec": {
   "display_name": "Python 3",
   "language": "python",
   "name": "python3"
  },
  "language_info": {
   "codemirror_mode": {
    "name": "ipython",
    "version": 3
   },
   "file_extension": ".py",
   "mimetype": "text/x-python",
   "name": "python",
   "nbconvert_exporter": "python",
   "pygments_lexer": "ipython3",
   "version": "3.8.6"
  },
  "toc": {
   "base_numbering": 1,
   "nav_menu": {},
   "number_sections": true,
   "sideBar": true,
   "skip_h1_title": false,
   "title_cell": "Table of Contents",
   "title_sidebar": "Contents",
   "toc_cell": false,
   "toc_position": {},
   "toc_section_display": true,
   "toc_window_display": false
  }
 },
 "nbformat": 4,
 "nbformat_minor": 4
}
